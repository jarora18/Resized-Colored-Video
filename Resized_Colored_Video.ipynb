{
  "nbformat": 4,
  "nbformat_minor": 0,
  "metadata": {
    "colab": {
      "provenance": [],
      "authorship_tag": "ABX9TyPVunmnonRhtVNrMjJz1zrO",
      "include_colab_link": true
    },
    "kernelspec": {
      "name": "python3",
      "display_name": "Python 3"
    },
    "language_info": {
      "name": "python"
    }
  },
  "cells": [
    {
      "cell_type": "markdown",
      "metadata": {
        "id": "view-in-github",
        "colab_type": "text"
      },
      "source": [
        "<a href=\"https://colab.research.google.com/github/jarora18/Resized-Colored-Video/blob/main/Resized_Colored_Video.ipynb\" target=\"_parent\"><img src=\"https://colab.research.google.com/assets/colab-badge.svg\" alt=\"Open In Colab\"/></a>"
      ]
    },
    {
      "cell_type": "code",
      "execution_count": 1,
      "metadata": {
        "colab": {
          "base_uri": "https://localhost:8080/"
        },
        "id": "5tRSSwROCnMV",
        "outputId": "289ccbcb-60b9-4c32-f351-f6d56c1dd686"
      },
      "outputs": [
        {
          "output_type": "stream",
          "name": "stdout",
          "text": [
            "Resizing video...\n",
            "Done! Resized video saved as: resized_video.mp4\n"
          ]
        }
      ],
      "source": [
        "import cv2\n",
        "\n",
        "# --- CONFIG ---\n",
        "INPUT_VIDEO = 'input_video.mp4'\n",
        "OUTPUT_VIDEO = 'resized_video.mp4'    # Output resized file\n",
        "SCALE = 0.5                           # 50% resize\n",
        "# --------------\n",
        "\n",
        "# Open input video\n",
        "cap = cv2.VideoCapture(INPUT_VIDEO)\n",
        "\n",
        "# Get original video properties\n",
        "original_width  = int(cap.get(cv2.CAP_PROP_FRAME_WIDTH))\n",
        "original_height = int(cap.get(cv2.CAP_PROP_FRAME_HEIGHT))\n",
        "fps             = cap.get(cv2.CAP_PROP_FPS)\n",
        "fourcc          = cv2.VideoWriter_fourcc(*'mp4v')\n",
        "\n",
        "# Calculate new dimensions\n",
        "new_width  = int(original_width * SCALE)\n",
        "new_height = int(original_height * SCALE)\n",
        "\n",
        "# Create video writer\n",
        "out = cv2.VideoWriter(OUTPUT_VIDEO, fourcc, fps, (new_width, new_height))\n",
        "\n",
        "print(\"Resizing video...\")\n",
        "\n",
        "# Process each frame\n",
        "while True:\n",
        "    ret, frame = cap.read()\n",
        "    if not ret:\n",
        "        break\n",
        "\n",
        "    # Resize frame\n",
        "    resized_frame = cv2.resize(frame, (new_width, new_height), interpolation=cv2.INTER_AREA)\n",
        "\n",
        "    # Write resized frame\n",
        "    out.write(resized_frame)\n",
        "\n",
        "# Release resources\n",
        "cap.release()\n",
        "out.release()\n",
        "\n",
        "print(f\"Done! Resized video saved as: {OUTPUT_VIDEO}\")\n"
      ]
    }
  ]
}